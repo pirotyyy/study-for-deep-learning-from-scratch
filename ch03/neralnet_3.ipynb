{
 "cells": [
  {
   "cell_type": "markdown",
   "metadata": {},
   "source": [
    "## 実装するネットワーク\n",
    "![](neural3.png)"
   ]
  },
  {
   "cell_type": "markdown",
   "metadata": {},
   "source": [
    "## import"
   ]
  },
  {
   "cell_type": "code",
   "execution_count": 1,
   "metadata": {},
   "outputs": [],
   "source": [
    "import numpy as np"
   ]
  },
  {
   "cell_type": "markdown",
   "metadata": {},
   "source": [
    "## ツール"
   ]
  },
  {
   "cell_type": "code",
   "execution_count": 13,
   "metadata": {},
   "outputs": [],
   "source": [
    "# シグモイド関数\n",
    "def sigmoid(x):\n",
    "    return 1 / (1 + np.exp(-x))\n",
    "\n",
    "# 恒等関数\n",
    "def identity_function(x):\n",
    "    return x"
   ]
  },
  {
   "cell_type": "markdown",
   "metadata": {},
   "source": [
    "## 実装"
   ]
  },
  {
   "cell_type": "markdown",
   "metadata": {},
   "source": [
    "### 第一層目\n",
    "$$\n",
    "\\begin{align}\n",
    "A^{(1)} = XW^{(1)} + B^{(1)}\n",
    "\\end{align}\n",
    "$$\n",
    "$X$は入力、$W$は重み、$B$はバイアスである。"
   ]
  },
  {
   "cell_type": "code",
   "execution_count": 8,
   "metadata": {},
   "outputs": [
    {
     "name": "stdout",
     "output_type": "stream",
     "text": [
      "活性化前:  [0.3 0.7 1.1]\n",
      "活性化後:  [0.57444252 0.66818777 0.75026011]\n"
     ]
    }
   ],
   "source": [
    "X = np.array([1.0, 0.5]) # 入力値\n",
    "W1 = np.array([[0.1, 0.3, 0.5], [0.2, 0.4, 0.6]]) # 重み\n",
    "B1 = np.array([0.1, 0.2, 0.3]) # バイアス\n",
    "\n",
    "A1 = np.dot(X, W1) + B1\n",
    "print(\"活性化前: \", A1)\n",
    "\n",
    "# 活性化処理\n",
    "Z1 = sigmoid(A1)\n",
    "print(\"活性化後: \", Z1)"
   ]
  },
  {
   "cell_type": "markdown",
   "metadata": {},
   "source": [
    "### 第二層目"
   ]
  },
  {
   "cell_type": "code",
   "execution_count": 10,
   "metadata": {},
   "outputs": [
    {
     "name": "stdout",
     "output_type": "stream",
     "text": [
      "活性化前:  [0.51615984 1.21402696]\n",
      "活性化後:  [0.62624937 0.7710107 ]\n"
     ]
    }
   ],
   "source": [
    "W2 = np.array([[0.1, 0.4], [0.2, 0.5], [0.3, 0.6]])\n",
    "B2 = np.array([0.1, 0.2])\n",
    "\n",
    "A2 = np.dot(Z1, W2) + B2\n",
    "print(\"活性化前: \", A2)\n",
    "\n",
    "# 活性化処理\n",
    "Z2 = sigmoid(A2)\n",
    "print(\"活性化後: \", Z2)"
   ]
  },
  {
   "cell_type": "markdown",
   "metadata": {},
   "source": [
    "### 第三層目"
   ]
  },
  {
   "cell_type": "code",
   "execution_count": 12,
   "metadata": {},
   "outputs": [
    {
     "data": {
      "text/plain": [
       "array([0.31682708, 0.69627909])"
      ]
     },
     "execution_count": 12,
     "metadata": {},
     "output_type": "execute_result"
    }
   ],
   "source": [
    "W3 = np.array([[0.1, 0.3], [0.2, 0.4]] )\n",
    "B3 = np.array([0.1, 0.2])\n",
    "\n",
    "A3 = np.dot(Z2, W3) + B3\n",
    "Y = identity_function(A3)\n",
    "\n",
    "Y"
   ]
  },
  {
   "cell_type": "markdown",
   "metadata": {},
   "source": [
    "## クラス化"
   ]
  },
  {
   "cell_type": "code",
   "execution_count": 19,
   "metadata": {},
   "outputs": [],
   "source": [
    "import sys, os\n",
    "sys.path.append(os.pardir) \n",
    "from common.functions import sigmoid, identity_function\n",
    "\n",
    "class Network3:\n",
    "    def init_network(self):\n",
    "        network = {}\n",
    "        network['W1'] = np.array([[0.1, 0.3, 0.5], [0.2, 0.4, 0.6]]) \n",
    "        network['b1'] = np.array([0.1, 0.2, 0.3])\n",
    "        network['W2'] = np.array([[0.1, 0.4], [0.2, 0.5], [0.3, 0.6]])\n",
    "        network['b2'] = np.array([0.1, 0.2])\n",
    "        network['W3'] = np.array([[0.1, 0.3], [0.2, 0.4]] )\n",
    "        network['b3'] = np.array([0.1, 0.2])\n",
    "\n",
    "        return network\n",
    "\n",
    "    def forward(self, network, x):\n",
    "        W1, W2, W3 = network['W1'], network['W2'], network['W3']\n",
    "        b1, b2, b3 = network['b1'], network['b2'], network['b3']\n",
    "\n",
    "        a1 = np.dot(x, W1) + b1\n",
    "        z1 = sigmoid(a1)\n",
    "\n",
    "        a2 = np.dot(z1, W2) + b2\n",
    "        z2 = sigmoid(a2)\n",
    "        \n",
    "        a3 = np.dot(z2, W3) + b3\n",
    "        y = identity_function(a3)\n",
    "\n",
    "        return y"
   ]
  },
  {
   "cell_type": "code",
   "execution_count": 20,
   "metadata": {},
   "outputs": [
    {
     "name": "stdout",
     "output_type": "stream",
     "text": [
      "[0.31682708 0.69627909]\n"
     ]
    }
   ],
   "source": [
    "network3 = Network3()\n",
    "network = network3.init_network()\n",
    "x = np.array([1.0, 0.5])\n",
    "y = network3.forward(network, x)\n",
    "print(y)"
   ]
  },
  {
   "cell_type": "code",
   "execution_count": null,
   "metadata": {},
   "outputs": [],
   "source": []
  }
 ],
 "metadata": {
  "kernelspec": {
   "display_name": "Python 3",
   "language": "python",
   "name": "python3"
  },
  "language_info": {
   "codemirror_mode": {
    "name": "ipython",
    "version": 3
   },
   "file_extension": ".py",
   "mimetype": "text/x-python",
   "name": "python",
   "nbconvert_exporter": "python",
   "pygments_lexer": "ipython3",
   "version": "3.10.11"
  }
 },
 "nbformat": 4,
 "nbformat_minor": 2
}
